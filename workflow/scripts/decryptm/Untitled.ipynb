{
 "cells": [
  {
   "cell_type": "code",
   "execution_count": 1,
   "id": "8ebae055-2b80-40a3-9711-d467083a76eb",
   "metadata": {},
   "outputs": [],
   "source": [
    "if 'snakemake' in locals():\n",
    "   int_file = snakemake.input[0]\n",
    "   ref_proteome_file = snakemake.input[1]\n",
    "   output_file = snakemake.output[0]\n",
    "else:\n",
    "   int_file = '../../../data/decryptm/10_Kinase_Inhibitors/Phosphoproteome/curves_2KI.txt'\n",
    "   ref_proteome_file = '../../../data/decryptm/uniprot_proteome_up000005640_03112020.fasta'\n",
    "   output_file = '../../../results/decryptm/protein_mapping/mapped_protein_2KI.csv'\n",
    "\n",
    "import pandas as pd\n",
    "import numpy as np\n",
    "import re\n",
    "from Bio import SeqIO"
   ]
  },
  {
   "cell_type": "code",
   "execution_count": 2,
   "id": "a7a3a56e-74a3-4df9-bde9-540e7c52ca96",
   "metadata": {},
   "outputs": [],
   "source": [
    "def parse_phosphosite_info(prob_peptide, probability_trheshold=0.75):\n",
    "    ast_peptide = re.sub('\\(.*?\\)', '*', prob_peptide)\n",
    "    seq_peptide = re.sub('\\(.*?\\)', '', prob_peptide)\n",
    "    # locate the position before every asterisk\n",
    "    phospho_positions = [m.start() for m in re.finditer('\\*', ast_peptide)]\n",
    "    phospho_positions = [i - n for n, i in enumerate(phospho_positions)]\n",
    "    # parse the aminoacid in interesting positions\n",
    "    phospho_aas = [seq_peptide[i - 1] for i in phospho_positions]\n",
    "    # extract all phospho probabilities\n",
    "    phospho_probs = [float(i[1:-1]) for i in re.findall('\\(.*?\\)', prob_peptide)]\n",
    "    # filter phospho positions, aas and probs by probability threshold\n",
    "    phospho_positions = [i for i, j in zip(phospho_positions, phospho_probs) if j >= probability_trheshold]\n",
    "    phospho_aas = [i for i, j in zip(phospho_aas, phospho_probs) if j >= probability_trheshold]\n",
    "    phospho_probs = [i for i in phospho_probs if i >= probability_trheshold]\n",
    "    # if there are no phospho sites, return None\n",
    "    if len(phospho_positions) == 0:\n",
    "        return None, None, None\n",
    "    else:\n",
    "        return phospho_positions, phospho_aas, phospho_probs"
   ]
  },
  {
   "cell_type": "code",
   "execution_count": 5,
   "id": "83dda7a8-a7c4-4b11-ab13-ae0e52c2c6d8",
   "metadata": {},
   "outputs": [],
   "source": [
    "#read fasta file as a dictionary\n",
    "ref_proteome = SeqIO.to_dict(SeqIO.parse(ref_proteome_file, \"fasta\"))\n",
    "\n",
    "# replace IDs by the second element after splitting by '|'\n",
    "ref_proteome = {k.split('|')[1]: v for k, v in ref_proteome.items()}\n",
    "\n",
    "# read tsv file\n",
    "df = pd.read_csv(int_file, sep='\\t')\n",
    "protein_id_column = 'Leading proteins'\n",
    "phospho_count_column = 'Phospho (STY)'\n",
    "phospho_prob_column = 'All Phospho (STY) Probabilities'\n",
    "seq_column = 'Sequence'\n",
    "\n",
    "# remove all rows on which phospho count is 0\n",
    "df = df[df[phospho_count_column] != 0].copy()\n",
    "filt_df = df.iloc[:, :].copy()\n",
    "\n",
    "# parse phosphosite info\n",
    "psite_location = []\n",
    "peptide_start = []"
   ]
  },
  {
   "cell_type": "code",
   "execution_count": 7,
   "id": "d80302cb-9608-494a-8335-0d0cf9de5708",
   "metadata": {},
   "outputs": [],
   "source": [
    "# iterate over the rows of the df\n",
    "for index, row in df.iterrows():\n",
    "    phospho_count = int(row[phospho_count_column])\n",
    "    phospho_prob_pep = row[phospho_prob_column].split(';')[0]\n",
    "    lead_prot = row[protein_id_column].split(';')[0]"
   ]
  },
  {
   "cell_type": "code",
   "execution_count": 8,
   "id": "ac599d81-bafb-4a5f-a247-bc70c1022512",
   "metadata": {},
   "outputs": [],
   "source": [
    "pos, aa, prob = parse_phosphosite_info(phospho_prob_pep, 0.75)\n",
    "# keep only the phospho_count positions and aminoacids with the highest probability\n",
    "int_psite_index = np.argsort(prob)[-phospho_count:]\n",
    "int_pos = [pos[i] for i in int_psite_index]\n",
    "int_aa = [aa[i] for i in int_psite_index]"
   ]
  },
  {
   "cell_type": "code",
   "execution_count": 9,
   "id": "fc285b85-3011-4b2a-8a81-fc0ef2a796d1",
   "metadata": {},
   "outputs": [],
   "source": [
    "ref_seq = ref_proteome[lead_prot].seq"
   ]
  },
  {
   "cell_type": "code",
   "execution_count": 10,
   "id": "4b16b618-eed0-4ea2-a8c5-1df227542986",
   "metadata": {},
   "outputs": [],
   "source": [
    "start_pos = ref_seq.find(row[seq_column]) + 1\n",
    "# add the start position to the phosphosite position\n",
    "int_pos = [i + start_pos -1 for i in int_pos]\n",
    "# concatenate aa and positions without separator\n",
    "out_psite = ';'.join([i + str(j) for i, j in zip(int_aa, int_pos)])"
   ]
  },
  {
   "cell_type": "code",
   "execution_count": 27,
   "id": "3a69ee8e-f6d9-4feb-846d-95e690404a94",
   "metadata": {},
   "outputs": [],
   "source": [
    "start = [x - 8 for x in int_pos]"
   ]
  },
  {
   "cell_type": "code",
   "execution_count": 28,
   "id": "42901561-d411-4bfa-81b4-fc67ee5ddb5d",
   "metadata": {},
   "outputs": [],
   "source": [
    "for i in start:\n",
    "    full_seq = ref_seq[i:(i+15)]\n"
   ]
  },
  {
   "cell_type": "code",
   "execution_count": 29,
   "id": "4e307da3-6aea-46b3-a8cc-aec6f1deb533",
   "metadata": {},
   "outputs": [
    {
     "data": {
      "text/plain": [
       "Seq('YSKYYSDSDDELTVE')"
      ]
     },
     "execution_count": 29,
     "metadata": {},
     "output_type": "execute_result"
    }
   ],
   "source": [
    "full_seq"
   ]
  },
  {
   "cell_type": "code",
   "execution_count": null,
   "id": "3134a814-8929-432c-bce0-38e8d85541d2",
   "metadata": {},
   "outputs": [],
   "source": [
    "psite_location.append(out_psite)\n",
    "peptide_start.append(start_pos)"
   ]
  },
  {
   "cell_type": "code",
   "execution_count": 51,
   "id": "0b6f5903-202e-41ee-b298-5939b082a749",
   "metadata": {},
   "outputs": [],
   "source": [
    "start_pos = ref_seq.find(row[seq_column]) + 1\n",
    "# add the start position to the phosphosite position\n",
    "int_pos = [i + start_pos -1 for i in int_pos]\n",
    "# concatenate aa and positions without separator\n",
    "out_psite = ';'.join([i + str(j) for i, j in zip(int_aa, int_pos)])\n",
    "psite_location.append(out_psite)\n",
    "peptide_start.append(start_pos)"
   ]
  },
  {
   "cell_type": "code",
   "execution_count": 52,
   "id": "f302e8be-42d2-4c6b-8cd5-9d18d0bb1466",
   "metadata": {},
   "outputs": [
    {
     "data": {
      "text/plain": [
       "['S484', 'S963']"
      ]
     },
     "execution_count": 52,
     "metadata": {},
     "output_type": "execute_result"
    }
   ],
   "source": [
    "psite_location"
   ]
  },
  {
   "cell_type": "code",
   "execution_count": 3,
   "id": "a8e48fe4-abf3-47fe-a8de-ead2aa39e4ef",
   "metadata": {},
   "outputs": [],
   "source": [
    "ref_proteome = SeqIO.to_dict(SeqIO.parse(ref_proteome_file, \"fasta\"))\n",
    "\n",
    "# replace IDs by the second element after splitting by '|'\n",
    "ref_proteome = {k.split('|')[1]: v for k, v in ref_proteome.items()}"
   ]
  },
  {
   "cell_type": "code",
   "execution_count": 4,
   "id": "379b5189-4773-4b3b-97aa-54ae3577127a",
   "metadata": {},
   "outputs": [],
   "source": [
    "# read tsv file\n",
    "df = pd.read_csv(int_file, sep='\\t')\n",
    "protein_id_column = 'Leading proteins'\n",
    "phospho_count_column = 'Phospho (STY)'\n",
    "phospho_prob_column = 'All Phospho (STY) Probabilities'\n",
    "seq_column = 'Sequence'\n",
    "\n",
    "# remove all rows on which phospho count is 0\n",
    "df = df[df[phospho_count_column] != 0].copy()\n",
    "filt_df = df.iloc[:, :].copy()\n",
    "\n",
    "# parse phosphosite info\n",
    "psite_location = []\n",
    "peptide_start = []\n",
    "# iterate over the rows of the df"
   ]
  },
  {
   "cell_type": "code",
   "execution_count": 6,
   "id": "5da8b6c9-9542-48af-a09f-9122e7bb2e06",
   "metadata": {},
   "outputs": [
    {
     "ename": "NameError",
     "evalue": "name 'phospho_prob_pep' is not defined",
     "output_type": "error",
     "traceback": [
      "\u001b[0;31m---------------------------------------------------------------------------\u001b[0m",
      "\u001b[0;31mNameError\u001b[0m                                 Traceback (most recent call last)",
      "Cell \u001b[0;32mIn[6], line 1\u001b[0m\n\u001b[0;32m----> 1\u001b[0m pos, aa, prob \u001b[38;5;241m=\u001b[39m parse_phosphosite_info(\u001b[43mphospho_prob_pep\u001b[49m, \u001b[38;5;241m0.75\u001b[39m)\n\u001b[1;32m      2\u001b[0m \u001b[38;5;66;03m# keep only the phospho_count positions and aminoacids with the highest probability\u001b[39;00m\n\u001b[1;32m      3\u001b[0m int_psite_index \u001b[38;5;241m=\u001b[39m np\u001b[38;5;241m.\u001b[39margsort(prob)[\u001b[38;5;241m-\u001b[39mphospho_count:]\n",
      "\u001b[0;31mNameError\u001b[0m: name 'phospho_prob_pep' is not defined"
     ]
    }
   ],
   "source": []
  },
  {
   "cell_type": "code",
   "execution_count": 6,
   "id": "51a958bf-6cb0-4ef6-837c-16b6f1f9fa58",
   "metadata": {},
   "outputs": [
    {
     "data": {
      "text/plain": [
       "'Q8NFC6'"
      ]
     },
     "execution_count": 6,
     "metadata": {},
     "output_type": "execute_result"
    }
   ],
   "source": [
    "lead_prot"
   ]
  },
  {
   "cell_type": "code",
   "execution_count": 7,
   "id": "835c2887-f706-4dab-9ecc-8f0649852162",
   "metadata": {},
   "outputs": [],
   "source": [
    "pos, aa, prob = parse_phosphosite_info(phospho_prob_pep, 0.75)"
   ]
  },
  {
   "cell_type": "code",
   "execution_count": 11,
   "id": "2ebf2751-6496-43b9-8772-06f8f09df217",
   "metadata": {},
   "outputs": [],
   "source": [
    "prob_peptide = phospho_prob_pep"
   ]
  },
  {
   "cell_type": "code",
   "execution_count": 13,
   "id": "2c0bcdee-367a-41ca-aec1-9e6211e152c7",
   "metadata": {},
   "outputs": [],
   "source": [
    "ast_peptide = re.sub('\\(.*?\\)', '*', prob_peptide)\n",
    "seq_peptide = re.sub('\\(.*?\\)', '', prob_peptide)"
   ]
  },
  {
   "cell_type": "code",
   "execution_count": 18,
   "id": "5bd70f6e-651d-4fbd-9db9-ab4f48aa1b17",
   "metadata": {},
   "outputs": [
    {
     "data": {
      "text/plain": [
       "[3, 5]"
      ]
     },
     "execution_count": 18,
     "metadata": {},
     "output_type": "execute_result"
    }
   ],
   "source": [
    "phospho_positions = [m.start() for m in re.finditer('\\*', ast_peptide)]\n",
    "phospho_positions = [i - n for n, i in enumerate(phospho_positions)]\n",
    "phospho_positions"
   ]
  },
  {
   "cell_type": "code",
   "execution_count": 20,
   "id": "7d398346-72b5-4c34-997b-4e16d8bc4145",
   "metadata": {},
   "outputs": [],
   "source": [
    "phospho_aas = [seq_peptide[i - 1] for i in phospho_positions]"
   ]
  },
  {
   "cell_type": "code",
   "execution_count": 21,
   "id": "228d954f-d9d9-4eef-afb6-5339254ab759",
   "metadata": {},
   "outputs": [
    {
     "data": {
      "text/plain": [
       "['S', 'S']"
      ]
     },
     "execution_count": 21,
     "metadata": {},
     "output_type": "execute_result"
    }
   ],
   "source": [
    "phospho_aas"
   ]
  },
  {
   "cell_type": "code",
   "execution_count": 22,
   "id": "2d9096d8-fed0-45c6-b502-efb033df5bc7",
   "metadata": {},
   "outputs": [],
   "source": [
    "phospho_probs = [float(i[1:-1]) for i in re.findall('\\(.*?\\)', prob_peptide)]"
   ]
  },
  {
   "cell_type": "code",
   "execution_count": 23,
   "id": "343991e4-f4d9-4bb7-99b6-85b2e77e3814",
   "metadata": {},
   "outputs": [
    {
     "data": {
      "text/plain": [
       "[0.198, 0.802]"
      ]
     },
     "execution_count": 23,
     "metadata": {},
     "output_type": "execute_result"
    }
   ],
   "source": [
    "phospho_probs"
   ]
  },
  {
   "cell_type": "code",
   "execution_count": 25,
   "id": "5579565e-694c-45ac-be13-9b7309ff693c",
   "metadata": {},
   "outputs": [],
   "source": [
    "probability_trheshold = 0.75"
   ]
  },
  {
   "cell_type": "code",
   "execution_count": 26,
   "id": "12db50d0-af37-4cf5-86b0-c9c3ade0f193",
   "metadata": {},
   "outputs": [],
   "source": [
    "phospho_positions = [i for i, j in zip(phospho_positions, phospho_probs) if j >= probability_trheshold]"
   ]
  },
  {
   "cell_type": "code",
   "execution_count": 27,
   "id": "67d5e831-0f05-4608-85d5-3203b890bde9",
   "metadata": {},
   "outputs": [],
   "source": [
    "phospho_aas = [i for i, j in zip(phospho_aas, phospho_probs) if j >= probability_trheshold]\n",
    "phospho_probs = [i for i in phospho_probs if i >= probability_trheshold]"
   ]
  },
  {
   "cell_type": "code",
   "execution_count": 34,
   "id": "35ca0be6-3fba-4774-8ea8-890e14010326",
   "metadata": {},
   "outputs": [
    {
     "data": {
      "text/plain": [
       "'YYSDSDDELTVEQR'"
      ]
     },
     "execution_count": 34,
     "metadata": {},
     "output_type": "execute_result"
    }
   ],
   "source": [
    "seq_peptide"
   ]
  },
  {
   "cell_type": "code",
   "execution_count": null,
   "id": "5ceb8f65-fef4-4e76-8224-515f38d9bbc3",
   "metadata": {},
   "outputs": [],
   "source": [
    "ast_peptide = re.sub('\\(.*?\\)', '*', prob_peptide)\n",
    "seq_peptide = re.sub('\\(.*?\\)', '', prob_peptide)\n",
    "# locate the position before every asterisk\n",
    "phospho_positions = [m.start() for m in re.finditer('\\*', ast_peptide)]\n",
    "phospho_positions = [i - n for n, i in enumerate(phospho_positions)]\n",
    "# parse the aminoacid in interesting positions\n",
    "phospho_aas = [seq_peptide[i - 1] for i in phospho_positions]\n",
    "# extract all phospho probabilities\n",
    "phospho_probs = [float(i[1:-1]) for i in re.findall('\\(.*?\\)', prob_peptide)]\n",
    "# filter phospho positions, aas and probs by probability threshold\n",
    "phospho_positions = [i for i, j in zip(phospho_positions, phospho_probs) if j >= probability_trheshold]\n",
    "phospho_aas = [i for i, j in zip(phospho_aas, phospho_probs) if j >= probability_trheshold]\n",
    "phospho_probs = [i for i in phospho_probs if i >= probability_trheshold]\n",
    "# if there are no phospho sites, return None\n",
    "if len(phospho_positions) == 0:\n",
    "    return None, None, None\n",
    "else:\n",
    "    return phospho_positions, phospho_aas, phospho_probs"
   ]
  },
  {
   "cell_type": "code",
   "execution_count": 9,
   "id": "dbe1c4e5-a1c3-48ea-9c50-8d76ef5b574d",
   "metadata": {},
   "outputs": [
    {
     "data": {
      "text/plain": [
       "['S']"
      ]
     },
     "execution_count": 9,
     "metadata": {},
     "output_type": "execute_result"
    }
   ],
   "source": [
    "aa"
   ]
  },
  {
   "cell_type": "code",
   "execution_count": 10,
   "id": "e26dc7c8-91e6-44e1-8b62-8c4430583ab4",
   "metadata": {},
   "outputs": [
    {
     "data": {
      "text/plain": [
       "[0.802]"
      ]
     },
     "execution_count": 10,
     "metadata": {},
     "output_type": "execute_result"
    }
   ],
   "source": [
    "prob"
   ]
  },
  {
   "cell_type": "code",
   "execution_count": 102,
   "id": "5af24c48-86b7-414d-882b-09cddf984eda",
   "metadata": {},
   "outputs": [
    {
     "name": "stdout",
     "output_type": "stream",
     "text": [
      "Proportion of rows removed:  0.23360932944606416\n"
     ]
    }
   ],
   "source": [
    "if 'snakemake' in locals():\n",
    "   int_file = snakemake.input[0]\n",
    "   ref_proteome_file = snakemake.input[1]\n",
    "   output_file = snakemake.output[0]\n",
    "else:\n",
    "   int_file = '../../../data/decryptm/10_Kinase_Inhibitors/Phosphoproteome/curves_2KI.txt'\n",
    "   ref_proteome_file = '../../../data/decryptm/uniprot_proteome_up000005640_03112020.fasta'\n",
    "   output_file = '../../../results/decryptm/protein_mapping/mapped_protein_2KI.csv'\n",
    "\n",
    "import pandas as pd\n",
    "import numpy as np\n",
    "import re\n",
    "from Bio import SeqIO\n",
    "from Bio.Seq import Seq\n",
    "\n",
    "def parse_phosphosite_info(prob_peptide, probability_trheshold=0.75):\n",
    "    ast_peptide = re.sub('\\(.*?\\)', '*', prob_peptide)\n",
    "    seq_peptide = re.sub('\\(.*?\\)', '', prob_peptide)\n",
    "    # locate the position before every asterisk\n",
    "    phospho_positions = [m.start() for m in re.finditer('\\*', ast_peptide)]\n",
    "    phospho_positions = [i - n for n, i in enumerate(phospho_positions)]\n",
    "    # parse the aminoacid in interesting positions\n",
    "    phospho_aas = [seq_peptide[i - 1] for i in phospho_positions]\n",
    "    # extract all phospho probabilities\n",
    "    phospho_probs = [float(i[1:-1]) for i in re.findall('\\(.*?\\)', prob_peptide)]\n",
    "    # filter phospho positions, aas and probs by probability threshold\n",
    "    phospho_positions = [i for i, j in zip(phospho_positions, phospho_probs) if j >= probability_trheshold]\n",
    "    phospho_aas = [i for i, j in zip(phospho_aas, phospho_probs) if j >= probability_trheshold]\n",
    "    phospho_probs = [i for i in phospho_probs if i >= probability_trheshold]\n",
    "    # if there are no phospho sites, return None\n",
    "    if len(phospho_positions) == 0:\n",
    "        return None, None, None\n",
    "    else:\n",
    "        return phospho_positions, phospho_aas, phospho_probs\n",
    "    \n",
    "# read fasta file as a dictionary\n",
    "ref_proteome = SeqIO.to_dict(SeqIO.parse(ref_proteome_file, \"fasta\"))\n",
    "\n",
    "# replace IDs by the second element after splitting by '|'\n",
    "ref_proteome = {k.split('|')[1]: v for k, v in ref_proteome.items()}\n",
    "\n",
    "# read tsv file\n",
    "df = pd.read_csv(int_file, sep='\\t')\n",
    "protein_id_column = 'Leading proteins'\n",
    "phospho_count_column = 'Phospho (STY)'\n",
    "phospho_prob_column = 'All Phospho (STY) Probabilities'\n",
    "seq_column = 'Sequence'\n",
    "\n",
    "# remove all rows on which phospho count is 0\n",
    "df = df[df[phospho_count_column] != 0].copy()\n",
    "filt_df = df.iloc[:, :].copy()\n",
    "\n",
    "# parse phosphosite info\n",
    "psite_location = []\n",
    "peptide_start = []\n",
    "fifteenmer = []\n",
    "# iterate over the rows of the df\n",
    "for index, row in df.iterrows():\n",
    "    phospho_count = int(row[phospho_count_column])\n",
    "    phospho_prob_pep = row[phospho_prob_column].split(';')[0]\n",
    "    lead_prot = row[protein_id_column].split(';')[0]\n",
    "    pos, aa, prob = parse_phosphosite_info(phospho_prob_pep, 0.75)\n",
    "    # if the output of the parsing is None, then append an empty string to psite_location and psite_start\n",
    "    if pos is None:\n",
    "        psite_location.append('')\n",
    "        peptide_start.append('')\n",
    "        fifteenmer.append('')\n",
    "        continue\n",
    "    # keep only the phospho_count positions and aminoacids with the highest probability\n",
    "    int_psite_index = np.argsort(prob)[-phospho_count:]\n",
    "    int_pos = [pos[i] for i in int_psite_index]\n",
    "    int_aa = [aa[i] for i in int_psite_index]\n",
    "    # locate start position of the peptide in the protein\n",
    "    # if the lead protein is not a key in the ref_proteome dictionary, skip the row and append an empty string\n",
    "    if lead_prot not in ref_proteome:\n",
    "        psite_location.append('')\n",
    "        peptide_start.append('')\n",
    "        fifteenmer.append('')\n",
    "        continue\n",
    "    ref_seq = ref_proteome[lead_prot].seq\n",
    "    start_pos = ref_seq.find(row[seq_column]) + 1\n",
    "    # add the start position to the phosphosite position\n",
    "    int_pos = [i + start_pos -1 for i in int_pos]\n",
    "    # get fifteenmer\n",
    "    out = []\n",
    "    for i in int_pos:\n",
    "        left_i = i - 8\n",
    "        right_i = i + 7\n",
    "        if left_i >= 0 and right_i <= len(ref_seq):\n",
    "            window = ref_seq[left_i:right_i]\n",
    "        elif left_i < 0:\n",
    "            window = 'X' * abs(left_i) + ref_seq[:right_i]\n",
    "        elif right_i > len(ref_seq):\n",
    "            window = ref_seq[left_i:] + (right_i - len(ref_seq)) * 'X'\n",
    "        out.append(str(window))\n",
    "    out = ';'.join(out)\n",
    "    # concatenate aa and positions without separator\n",
    "    out_psite = ';'.join([i + str(j) for i, j in zip(int_aa, int_pos)])\n",
    "    psite_location.append(out_psite)\n",
    "    peptide_start.append(start_pos)\n",
    "    fifteenmer.append(out)\n",
    "    \n",
    "# create a new column in filt df with the psite location\n",
    "filt_df['psite_location'] = psite_location\n",
    "filt_df['peptide_start'] = peptide_start\n",
    "filt_df['fifteenmer'] = fifteenmer\n",
    "\n",
    "# filter out rows with empty psite location and report the proportion of rows removed\n",
    "filt_df_2 = filt_df[filt_df['psite_location'] != ''].copy()\n",
    "print('Proportion of rows removed: ', 1 - filt_df_2.shape[0] / filt_df.shape[0])"
   ]
  },
  {
   "cell_type": "code",
   "execution_count": 103,
   "id": "47c67fa3-6b5d-4541-9d4a-d209a11d2281",
   "metadata": {},
   "outputs": [
    {
     "data": {
      "text/html": [
       "<div>\n",
       "<style scoped>\n",
       "    .dataframe tbody tr th:only-of-type {\n",
       "        vertical-align: middle;\n",
       "    }\n",
       "\n",
       "    .dataframe tbody tr th {\n",
       "        vertical-align: top;\n",
       "    }\n",
       "\n",
       "    .dataframe thead th {\n",
       "        text-align: right;\n",
       "    }\n",
       "</style>\n",
       "<table border=\"1\" class=\"dataframe\">\n",
       "  <thead>\n",
       "    <tr style=\"text-align: right;\">\n",
       "      <th></th>\n",
       "      <th>Modified sequence</th>\n",
       "      <th>Experiment</th>\n",
       "      <th>N duplicates</th>\n",
       "      <th>Sequence</th>\n",
       "      <th>Length</th>\n",
       "      <th>Missed cleavages</th>\n",
       "      <th>Proteins</th>\n",
       "      <th>Leading proteins</th>\n",
       "      <th>Gene names</th>\n",
       "      <th>Protein names</th>\n",
       "      <th>...</th>\n",
       "      <th>Curve slope error</th>\n",
       "      <th>Curve top error</th>\n",
       "      <th>Curve bottom error</th>\n",
       "      <th>EC50</th>\n",
       "      <th>pEC50</th>\n",
       "      <th>Curve effect size</th>\n",
       "      <th>Regulation</th>\n",
       "      <th>psite_location</th>\n",
       "      <th>peptide_start</th>\n",
       "      <th>fifteenmer</th>\n",
       "    </tr>\n",
       "  </thead>\n",
       "  <tbody>\n",
       "    <tr>\n",
       "      <th>0</th>\n",
       "      <td>(ac)AAAAAAAGDS(ph)DSWDADAFSVEDPVR</td>\n",
       "      <td>ddPTM_A549_PD325901_60min_R1</td>\n",
       "      <td>2</td>\n",
       "      <td>AAAAAAAGDSDSWDADAFSVEDPVR</td>\n",
       "      <td>25</td>\n",
       "      <td>0</td>\n",
       "      <td>O75822-2;O75822-3;O75822</td>\n",
       "      <td>O75822-2</td>\n",
       "      <td>EIF3J</td>\n",
       "      <td>Eukaryotic translation initiation factor 3 sub...</td>\n",
       "      <td>...</td>\n",
       "      <td>NaN</td>\n",
       "      <td>NaN</td>\n",
       "      <td>NaN</td>\n",
       "      <td>NaN</td>\n",
       "      <td>NaN</td>\n",
       "      <td>NaN</td>\n",
       "      <td>NaN</td>\n",
       "      <td></td>\n",
       "      <td></td>\n",
       "      <td></td>\n",
       "    </tr>\n",
       "    <tr>\n",
       "      <th>1</th>\n",
       "      <td>(ac)AAAAAAAGDS(ph)DSWDADAFSVEDPVRK</td>\n",
       "      <td>ddPTM_A549_MK2206_60min_R1</td>\n",
       "      <td>2</td>\n",
       "      <td>AAAAAAAGDSDSWDADAFSVEDPVRK</td>\n",
       "      <td>26</td>\n",
       "      <td>1</td>\n",
       "      <td>O75822-2;O75822-3;O75822</td>\n",
       "      <td>O75822-2</td>\n",
       "      <td>EIF3J</td>\n",
       "      <td>Eukaryotic translation initiation factor 3 sub...</td>\n",
       "      <td>...</td>\n",
       "      <td>7.735097e+05</td>\n",
       "      <td>0.019667</td>\n",
       "      <td>3.390913e-02</td>\n",
       "      <td>5.639320e-08</td>\n",
       "      <td>7.248773</td>\n",
       "      <td>-0.259270</td>\n",
       "      <td>NaN</td>\n",
       "      <td>S11</td>\n",
       "      <td>2</td>\n",
       "      <td>AAAAAGDSDSWDADA</td>\n",
       "    </tr>\n",
       "    <tr>\n",
       "      <th>2</th>\n",
       "      <td>(ac)AAAAAAAGDS(ph)DSWDADAFSVEDPVRK</td>\n",
       "      <td>ddPTM_A549_PD325901_60min_R1</td>\n",
       "      <td>2</td>\n",
       "      <td>AAAAAAAGDSDSWDADAFSVEDPVRK</td>\n",
       "      <td>26</td>\n",
       "      <td>1</td>\n",
       "      <td>O75822-2;O75822-3;O75822</td>\n",
       "      <td>O75822-2</td>\n",
       "      <td>EIF3J</td>\n",
       "      <td>Eukaryotic translation initiation factor 3 sub...</td>\n",
       "      <td>...</td>\n",
       "      <td>4.889130e-01</td>\n",
       "      <td>0.011656</td>\n",
       "      <td>1.453447e-01</td>\n",
       "      <td>1.787879e-06</td>\n",
       "      <td>5.747662</td>\n",
       "      <td>0.440656</td>\n",
       "      <td>NaN</td>\n",
       "      <td>S11</td>\n",
       "      <td>2</td>\n",
       "      <td>AAAAAGDSDSWDADA</td>\n",
       "    </tr>\n",
       "    <tr>\n",
       "      <th>3</th>\n",
       "      <td>(ac)AAAAAAGPSPGSGPGDS(ph)PEGPEGEAPERR</td>\n",
       "      <td>ddPTM_A549_PD325901_60min_R1</td>\n",
       "      <td>1</td>\n",
       "      <td>AAAAAAGPSPGSGPGDSPEGPEGEAPERR</td>\n",
       "      <td>29</td>\n",
       "      <td>1</td>\n",
       "      <td>Q9UID3;E9PKE5;A0A1W2PQZ2;E9PQD5;E9PRV0;E9PKX7</td>\n",
       "      <td>Q9UID3</td>\n",
       "      <td>VPS51</td>\n",
       "      <td>Vacuolar protein sorting-associated protein 51...</td>\n",
       "      <td>...</td>\n",
       "      <td>5.742683e+05</td>\n",
       "      <td>0.113484</td>\n",
       "      <td>1.255859e-01</td>\n",
       "      <td>1.740235e-09</td>\n",
       "      <td>8.759392</td>\n",
       "      <td>-1.000544</td>\n",
       "      <td>NaN</td>\n",
       "      <td>S18</td>\n",
       "      <td>2</td>\n",
       "      <td>PGSGPGDSPEGPEGE</td>\n",
       "    </tr>\n",
       "    <tr>\n",
       "      <th>4</th>\n",
       "      <td>(ac)AAAADS(ph)FSGGPAGVR</td>\n",
       "      <td>ddPTM_A549_PD325901_60min_R1</td>\n",
       "      <td>1</td>\n",
       "      <td>AAAADSFSGGPAGVR</td>\n",
       "      <td>15</td>\n",
       "      <td>0</td>\n",
       "      <td>I3L2E0;A0A3B3ISX4;Q96E14</td>\n",
       "      <td>I3L2E0</td>\n",
       "      <td>RMI2</td>\n",
       "      <td>RecQ-mediated genome instability protein 2</td>\n",
       "      <td>...</td>\n",
       "      <td>9.227332e-01</td>\n",
       "      <td>0.068438</td>\n",
       "      <td>2.052981e-01</td>\n",
       "      <td>1.190380e-07</td>\n",
       "      <td>6.924314</td>\n",
       "      <td>0.690429</td>\n",
       "      <td>NaN</td>\n",
       "      <td>S7</td>\n",
       "      <td>2</td>\n",
       "      <td>XMAAAADSFSGGPAG</td>\n",
       "    </tr>\n",
       "    <tr>\n",
       "      <th>...</th>\n",
       "      <td>...</td>\n",
       "      <td>...</td>\n",
       "      <td>...</td>\n",
       "      <td>...</td>\n",
       "      <td>...</td>\n",
       "      <td>...</td>\n",
       "      <td>...</td>\n",
       "      <td>...</td>\n",
       "      <td>...</td>\n",
       "      <td>...</td>\n",
       "      <td>...</td>\n",
       "      <td>...</td>\n",
       "      <td>...</td>\n",
       "      <td>...</td>\n",
       "      <td>...</td>\n",
       "      <td>...</td>\n",
       "      <td>...</td>\n",
       "      <td>...</td>\n",
       "      <td>...</td>\n",
       "      <td>...</td>\n",
       "      <td>...</td>\n",
       "    </tr>\n",
       "    <tr>\n",
       "      <th>46786</th>\n",
       "      <td>YYS(ph)DSDDELTVEQR</td>\n",
       "      <td>ddPTM_A549_MK2206_60min_R1</td>\n",
       "      <td>1</td>\n",
       "      <td>YYSDSDDELTVEQR</td>\n",
       "      <td>14</td>\n",
       "      <td>0</td>\n",
       "      <td>Q8NFC6</td>\n",
       "      <td>Q8NFC6</td>\n",
       "      <td>BOD1L1</td>\n",
       "      <td>Biorientation of chromosomes in cell division ...</td>\n",
       "      <td>...</td>\n",
       "      <td>1.674846e+03</td>\n",
       "      <td>0.026378</td>\n",
       "      <td>2.727428e-02</td>\n",
       "      <td>1.054639e-09</td>\n",
       "      <td>8.976896</td>\n",
       "      <td>-0.148489</td>\n",
       "      <td>NaN</td>\n",
       "      <td>S482</td>\n",
       "      <td>480</td>\n",
       "      <td>YLYSKYYSDSDDELT</td>\n",
       "    </tr>\n",
       "    <tr>\n",
       "      <th>46787</th>\n",
       "      <td>YYS(ph)DSDDELTVEQR</td>\n",
       "      <td>ddPTM_A549_PD325901_60min_R1</td>\n",
       "      <td>1</td>\n",
       "      <td>YYSDSDDELTVEQR</td>\n",
       "      <td>14</td>\n",
       "      <td>0</td>\n",
       "      <td>Q8NFC6</td>\n",
       "      <td>Q8NFC6</td>\n",
       "      <td>BOD1L1</td>\n",
       "      <td>Biorientation of chromosomes in cell division ...</td>\n",
       "      <td>...</td>\n",
       "      <td>2.386484e+05</td>\n",
       "      <td>0.011476</td>\n",
       "      <td>1.222625e-02</td>\n",
       "      <td>1.657375e-09</td>\n",
       "      <td>8.780579</td>\n",
       "      <td>-0.112934</td>\n",
       "      <td>NaN</td>\n",
       "      <td></td>\n",
       "      <td></td>\n",
       "      <td></td>\n",
       "    </tr>\n",
       "    <tr>\n",
       "      <th>46788</th>\n",
       "      <td>YYS(ph)IDDNQNKTHDKK</td>\n",
       "      <td>ddPTM_A549_PD325901_60min_R1</td>\n",
       "      <td>1</td>\n",
       "      <td>YYSIDDNQNKTHDKK</td>\n",
       "      <td>15</td>\n",
       "      <td>2</td>\n",
       "      <td>Q8NI08-2;Q8NI08;Q8NI08-4;Q8NI08-3;Q5TF96;Q5TF97</td>\n",
       "      <td>Q8NI08-2</td>\n",
       "      <td>NCOA7</td>\n",
       "      <td>Nuclear receptor coactivator 7</td>\n",
       "      <td>...</td>\n",
       "      <td>3.788141e+01</td>\n",
       "      <td>0.008176</td>\n",
       "      <td>1.579408e-02</td>\n",
       "      <td>1.663263e-07</td>\n",
       "      <td>6.779039</td>\n",
       "      <td>-0.148791</td>\n",
       "      <td>NaN</td>\n",
       "      <td>S89</td>\n",
       "      <td>87</td>\n",
       "      <td>TELKRYYSIDDNQNK</td>\n",
       "    </tr>\n",
       "    <tr>\n",
       "      <th>46789</th>\n",
       "      <td>YYSDS(ph)DDELTVEQR</td>\n",
       "      <td>ddPTM_A549_MK2206_60min_R1</td>\n",
       "      <td>1</td>\n",
       "      <td>YYSDSDDELTVEQR</td>\n",
       "      <td>14</td>\n",
       "      <td>0</td>\n",
       "      <td>Q8NFC6</td>\n",
       "      <td>Q8NFC6</td>\n",
       "      <td>BOD1L1</td>\n",
       "      <td>Biorientation of chromosomes in cell division ...</td>\n",
       "      <td>...</td>\n",
       "      <td>2.288489e+07</td>\n",
       "      <td>0.015992</td>\n",
       "      <td>3.805544e+07</td>\n",
       "      <td>1.148481e-05</td>\n",
       "      <td>4.939876</td>\n",
       "      <td>-0.362771</td>\n",
       "      <td>NaN</td>\n",
       "      <td></td>\n",
       "      <td></td>\n",
       "      <td></td>\n",
       "    </tr>\n",
       "    <tr>\n",
       "      <th>46790</th>\n",
       "      <td>YYSDS(ph)DDELTVEQR</td>\n",
       "      <td>ddPTM_A549_PD325901_60min_R1</td>\n",
       "      <td>1</td>\n",
       "      <td>YYSDSDDELTVEQR</td>\n",
       "      <td>14</td>\n",
       "      <td>0</td>\n",
       "      <td>Q8NFC6</td>\n",
       "      <td>Q8NFC6</td>\n",
       "      <td>BOD1L1</td>\n",
       "      <td>Biorientation of chromosomes in cell division ...</td>\n",
       "      <td>...</td>\n",
       "      <td>8.518269e+00</td>\n",
       "      <td>0.018830</td>\n",
       "      <td>4.882858e-02</td>\n",
       "      <td>5.300665e-07</td>\n",
       "      <td>6.275670</td>\n",
       "      <td>0.185554</td>\n",
       "      <td>NaN</td>\n",
       "      <td>S484</td>\n",
       "      <td>480</td>\n",
       "      <td>YSKYYSDSDDELTVE</td>\n",
       "    </tr>\n",
       "  </tbody>\n",
       "</table>\n",
       "<p>42875 rows × 68 columns</p>\n",
       "</div>"
      ],
      "text/plain": [
       "                           Modified sequence                    Experiment  \\\n",
       "0          (ac)AAAAAAAGDS(ph)DSWDADAFSVEDPVR  ddPTM_A549_PD325901_60min_R1   \n",
       "1         (ac)AAAAAAAGDS(ph)DSWDADAFSVEDPVRK    ddPTM_A549_MK2206_60min_R1   \n",
       "2         (ac)AAAAAAAGDS(ph)DSWDADAFSVEDPVRK  ddPTM_A549_PD325901_60min_R1   \n",
       "3      (ac)AAAAAAGPSPGSGPGDS(ph)PEGPEGEAPERR  ddPTM_A549_PD325901_60min_R1   \n",
       "4                    (ac)AAAADS(ph)FSGGPAGVR  ddPTM_A549_PD325901_60min_R1   \n",
       "...                                      ...                           ...   \n",
       "46786                     YYS(ph)DSDDELTVEQR    ddPTM_A549_MK2206_60min_R1   \n",
       "46787                     YYS(ph)DSDDELTVEQR  ddPTM_A549_PD325901_60min_R1   \n",
       "46788                    YYS(ph)IDDNQNKTHDKK  ddPTM_A549_PD325901_60min_R1   \n",
       "46789                     YYSDS(ph)DDELTVEQR    ddPTM_A549_MK2206_60min_R1   \n",
       "46790                     YYSDS(ph)DDELTVEQR  ddPTM_A549_PD325901_60min_R1   \n",
       "\n",
       "       N duplicates                       Sequence  Length  Missed cleavages  \\\n",
       "0                 2      AAAAAAAGDSDSWDADAFSVEDPVR      25                 0   \n",
       "1                 2     AAAAAAAGDSDSWDADAFSVEDPVRK      26                 1   \n",
       "2                 2     AAAAAAAGDSDSWDADAFSVEDPVRK      26                 1   \n",
       "3                 1  AAAAAAGPSPGSGPGDSPEGPEGEAPERR      29                 1   \n",
       "4                 1                AAAADSFSGGPAGVR      15                 0   \n",
       "...             ...                            ...     ...               ...   \n",
       "46786             1                 YYSDSDDELTVEQR      14                 0   \n",
       "46787             1                 YYSDSDDELTVEQR      14                 0   \n",
       "46788             1                YYSIDDNQNKTHDKK      15                 2   \n",
       "46789             1                 YYSDSDDELTVEQR      14                 0   \n",
       "46790             1                 YYSDSDDELTVEQR      14                 0   \n",
       "\n",
       "                                              Proteins Leading proteins  \\\n",
       "0                             O75822-2;O75822-3;O75822         O75822-2   \n",
       "1                             O75822-2;O75822-3;O75822         O75822-2   \n",
       "2                             O75822-2;O75822-3;O75822         O75822-2   \n",
       "3        Q9UID3;E9PKE5;A0A1W2PQZ2;E9PQD5;E9PRV0;E9PKX7           Q9UID3   \n",
       "4                             I3L2E0;A0A3B3ISX4;Q96E14           I3L2E0   \n",
       "...                                                ...              ...   \n",
       "46786                                           Q8NFC6           Q8NFC6   \n",
       "46787                                           Q8NFC6           Q8NFC6   \n",
       "46788  Q8NI08-2;Q8NI08;Q8NI08-4;Q8NI08-3;Q5TF96;Q5TF97         Q8NI08-2   \n",
       "46789                                           Q8NFC6           Q8NFC6   \n",
       "46790                                           Q8NFC6           Q8NFC6   \n",
       "\n",
       "      Gene names                                      Protein names  ...  \\\n",
       "0          EIF3J  Eukaryotic translation initiation factor 3 sub...  ...   \n",
       "1          EIF3J  Eukaryotic translation initiation factor 3 sub...  ...   \n",
       "2          EIF3J  Eukaryotic translation initiation factor 3 sub...  ...   \n",
       "3          VPS51  Vacuolar protein sorting-associated protein 51...  ...   \n",
       "4           RMI2         RecQ-mediated genome instability protein 2  ...   \n",
       "...          ...                                                ...  ...   \n",
       "46786     BOD1L1  Biorientation of chromosomes in cell division ...  ...   \n",
       "46787     BOD1L1  Biorientation of chromosomes in cell division ...  ...   \n",
       "46788      NCOA7                     Nuclear receptor coactivator 7  ...   \n",
       "46789     BOD1L1  Biorientation of chromosomes in cell division ...  ...   \n",
       "46790     BOD1L1  Biorientation of chromosomes in cell division ...  ...   \n",
       "\n",
       "       Curve slope error Curve top error  Curve bottom error          EC50  \\\n",
       "0                    NaN             NaN                 NaN           NaN   \n",
       "1           7.735097e+05        0.019667        3.390913e-02  5.639320e-08   \n",
       "2           4.889130e-01        0.011656        1.453447e-01  1.787879e-06   \n",
       "3           5.742683e+05        0.113484        1.255859e-01  1.740235e-09   \n",
       "4           9.227332e-01        0.068438        2.052981e-01  1.190380e-07   \n",
       "...                  ...             ...                 ...           ...   \n",
       "46786       1.674846e+03        0.026378        2.727428e-02  1.054639e-09   \n",
       "46787       2.386484e+05        0.011476        1.222625e-02  1.657375e-09   \n",
       "46788       3.788141e+01        0.008176        1.579408e-02  1.663263e-07   \n",
       "46789       2.288489e+07        0.015992        3.805544e+07  1.148481e-05   \n",
       "46790       8.518269e+00        0.018830        4.882858e-02  5.300665e-07   \n",
       "\n",
       "          pEC50  Curve effect size  Regulation  psite_location  peptide_start  \\\n",
       "0           NaN                NaN         NaN                                  \n",
       "1      7.248773          -0.259270         NaN             S11              2   \n",
       "2      5.747662           0.440656         NaN             S11              2   \n",
       "3      8.759392          -1.000544         NaN             S18              2   \n",
       "4      6.924314           0.690429         NaN              S7              2   \n",
       "...         ...                ...         ...             ...            ...   \n",
       "46786  8.976896          -0.148489         NaN            S482            480   \n",
       "46787  8.780579          -0.112934         NaN                                  \n",
       "46788  6.779039          -0.148791         NaN             S89             87   \n",
       "46789  4.939876          -0.362771         NaN                                  \n",
       "46790  6.275670           0.185554         NaN            S484            480   \n",
       "\n",
       "            fifteenmer  \n",
       "0                       \n",
       "1      AAAAAGDSDSWDADA  \n",
       "2      AAAAAGDSDSWDADA  \n",
       "3      PGSGPGDSPEGPEGE  \n",
       "4      XMAAAADSFSGGPAG  \n",
       "...                ...  \n",
       "46786  YLYSKYYSDSDDELT  \n",
       "46787                   \n",
       "46788  TELKRYYSIDDNQNK  \n",
       "46789                   \n",
       "46790  YSKYYSDSDDELTVE  \n",
       "\n",
       "[42875 rows x 68 columns]"
      ]
     },
     "execution_count": 103,
     "metadata": {},
     "output_type": "execute_result"
    }
   ],
   "source": [
    "filt_df"
   ]
  },
  {
   "cell_type": "code",
   "execution_count": 91,
   "id": "401bd985-110f-4220-9a79-db107fc155d1",
   "metadata": {},
   "outputs": [],
   "source": [
    "out = []\n",
    "if start_pos == '':\n",
    "    out.append('XXXXXXXXXXXXXXX')\n",
    "else:\n",
    "    for i in int_pos:\n",
    "        left_i = i - 7\n",
    "        right_i = i + 8\n",
    "        if left_i >= 0 and right_i <= len(ref_seq):\n",
    "            window = ref_seq[left_i:right_i]\n",
    "        elif left_i < 0:\n",
    "            window = 'X' * abs(left_i) + ref_seq[:right_i]\n",
    "        elif right_i > len(ref_seq):\n",
    "            window = ref_seq[left_i:] + (right_i - len(ref_seq)) * 'X'\n",
    "        out.append(str(window))\n",
    "out = ';'.join(out)"
   ]
  },
  {
   "cell_type": "code",
   "execution_count": 92,
   "id": "c6039952-a804-406e-97ff-3e2db4d11074",
   "metadata": {},
   "outputs": [
    {
     "data": {
      "text/plain": [
       "'XXXXXXXXXXXXXXX'"
      ]
     },
     "execution_count": 92,
     "metadata": {},
     "output_type": "execute_result"
    }
   ],
   "source": [
    "out"
   ]
  },
  {
   "cell_type": "code",
   "execution_count": 69,
   "id": "2919f27b-f173-4b0e-8468-e95f4d2f1d6a",
   "metadata": {},
   "outputs": [],
   "source": [
    "from Bio.Seq import Seq"
   ]
  },
  {
   "cell_type": "code",
   "execution_count": 70,
   "id": "1c59c4db-e636-48e6-a0bf-8af086c970dc",
   "metadata": {},
   "outputs": [],
   "source": [
    "if start < 0:\n",
    "    new_ref = Seq(\"X\" * (start*-1) + str(ref_seq))"
   ]
  },
  {
   "cell_type": "code",
   "execution_count": 71,
   "id": "98ab9dc9-0dd5-4868-8cf2-1d8a81fab360",
   "metadata": {},
   "outputs": [
    {
     "data": {
      "text/plain": [
       "Seq('XXMATNPQPQPPPPAPPPPPPQPQPQPPPPPPGPGAGPGAGGAGGAGAGAGDPQ...AKR')"
      ]
     },
     "execution_count": 71,
     "metadata": {},
     "output_type": "execute_result"
    }
   ],
   "source": [
    "new_ref"
   ]
  },
  {
   "cell_type": "code",
   "execution_count": null,
   "id": "717dda65-defc-44a2-83d4-4538b1bf46f3",
   "metadata": {},
   "outputs": [],
   "source": [
    "\n",
    "# create a new column in filt df with the psite location\n",
    "filt_df['psite_location'] = psite_location\n",
    "filt_df['peptide_start'] = peptide_start\n",
    "filt_df['fifteenmer'] = fifteenmer\n",
    "\n",
    "# filter out rows with empty psite location and report the proportion of rows removed\n",
    "filt_df_2 = filt_df[filt_df['psite_location'] != ''].copy()\n",
    "print('Proportion of rows removed: ', 1 - filt_df_2.shape[0] / filt_df.shape[0])\n",
    "\n",
    "# write to file\n",
    "filt_df.to_csv(output_file, sep='\\t', index=False)"
   ]
  }
 ],
 "metadata": {
  "kernelspec": {
   "display_name": "phospho",
   "language": "python",
   "name": "phospho"
  },
  "language_info": {
   "codemirror_mode": {
    "name": "ipython",
    "version": 3
   },
   "file_extension": ".py",
   "mimetype": "text/x-python",
   "name": "python",
   "nbconvert_exporter": "python",
   "pygments_lexer": "ipython3",
   "version": "3.11.3"
  }
 },
 "nbformat": 4,
 "nbformat_minor": 5
}
