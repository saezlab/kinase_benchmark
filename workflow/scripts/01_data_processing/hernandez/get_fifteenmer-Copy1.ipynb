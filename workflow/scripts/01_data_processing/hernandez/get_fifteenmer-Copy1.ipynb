{
 "cells": [
  {
   "cell_type": "code",
   "execution_count": 2,
   "id": "c770a102-b28e-42ca-823e-27bc0a4ef0c3",
   "metadata": {},
   "outputs": [],
   "source": [
    "import pandas as pd\n",
    "import numpy as np\n",
    "from Bio import SeqIO\n",
    "import os\n",
    "import re"
   ]
  },
  {
   "cell_type": "code",
   "execution_count": 3,
   "id": "961069a8-13f4-40b4-a384-18ba9f7612cd",
   "metadata": {},
   "outputs": [],
   "source": [
    "sites = pd.read_csv(\"../../../../results/hijazi/01_processed_data/benchmark_data.csv\")\n",
    "proteome = SeqIO.parse('../../../../data/decryptm/uniprot_proteome_up000005640_03112020.fasta', 'fasta')"
   ]
  },
  {
   "cell_type": "code",
   "execution_count": 4,
   "id": "96f49749-0a82-4257-8860-38ce0d84399b",
   "metadata": {},
   "outputs": [
    {
     "ename": "ValueError",
     "evalue": "Length mismatch: Expected axis has 4 elements, new values have 3 elements",
     "output_type": "error",
     "traceback": [
      "\u001b[0;31m---------------------------------------------------------------------------\u001b[0m",
      "\u001b[0;31mValueError\u001b[0m                                Traceback (most recent call last)",
      "Cell \u001b[0;32mIn[11], line 3\u001b[0m\n\u001b[1;32m      1\u001b[0m \u001b[38;5;66;03m# process sites: split into protein, aa and position\u001b[39;00m\n\u001b[1;32m      2\u001b[0m sites_df \u001b[38;5;241m=\u001b[39m sites[\u001b[38;5;124m'\u001b[39m\u001b[38;5;124mID\u001b[39m\u001b[38;5;124m'\u001b[39m]\u001b[38;5;241m.\u001b[39mstr\u001b[38;5;241m.\u001b[39msplit(\u001b[38;5;124m'\u001b[39m\u001b[38;5;124m|\u001b[39m\u001b[38;5;124m'\u001b[39m, expand\u001b[38;5;241m=\u001b[39m\u001b[38;5;28;01mTrue\u001b[39;00m)\n\u001b[0;32m----> 3\u001b[0m \u001b[43msites_df\u001b[49m\u001b[38;5;241;43m.\u001b[39;49m\u001b[43mcolumns\u001b[49m \u001b[38;5;241m=\u001b[39m [\u001b[38;5;124m'\u001b[39m\u001b[38;5;124mfull\u001b[39m\u001b[38;5;124m'\u001b[39m, \u001b[38;5;124m'\u001b[39m\u001b[38;5;124msymbol\u001b[39m\u001b[38;5;124m'\u001b[39m, \u001b[38;5;124m'\u001b[39m\u001b[38;5;124maaposition\u001b[39m\u001b[38;5;124m'\u001b[39m]\n\u001b[1;32m      4\u001b[0m sites_df[\u001b[38;5;124m'\u001b[39m\u001b[38;5;124maa\u001b[39m\u001b[38;5;124m'\u001b[39m] \u001b[38;5;241m=\u001b[39m sites_df[\u001b[38;5;124m'\u001b[39m\u001b[38;5;124maaposition\u001b[39m\u001b[38;5;124m'\u001b[39m]\u001b[38;5;241m.\u001b[39mstr\u001b[38;5;241m.\u001b[39mextract(\u001b[38;5;124m'\u001b[39m\u001b[38;5;124m([A-Z])\u001b[39m\u001b[38;5;124m'\u001b[39m)\n\u001b[1;32m      5\u001b[0m sites_df[\u001b[38;5;124m'\u001b[39m\u001b[38;5;124mposition\u001b[39m\u001b[38;5;124m'\u001b[39m] \u001b[38;5;241m=\u001b[39m sites_df[\u001b[38;5;124m'\u001b[39m\u001b[38;5;124maaposition\u001b[39m\u001b[38;5;124m'\u001b[39m]\u001b[38;5;241m.\u001b[39mstr\u001b[38;5;241m.\u001b[39mextract(\u001b[38;5;124m'\u001b[39m\u001b[38;5;124m(\u001b[39m\u001b[38;5;124m\\\u001b[39m\u001b[38;5;124md+)\u001b[39m\u001b[38;5;124m'\u001b[39m)\n",
      "File \u001b[0;32m~/miniforge3/envs/phospho/lib/python3.11/site-packages/pandas/core/generic.py:6218\u001b[0m, in \u001b[0;36mNDFrame.__setattr__\u001b[0;34m(self, name, value)\u001b[0m\n\u001b[1;32m   6216\u001b[0m \u001b[38;5;28;01mtry\u001b[39;00m:\n\u001b[1;32m   6217\u001b[0m     \u001b[38;5;28mobject\u001b[39m\u001b[38;5;241m.\u001b[39m\u001b[38;5;21m__getattribute__\u001b[39m(\u001b[38;5;28mself\u001b[39m, name)\n\u001b[0;32m-> 6218\u001b[0m     \u001b[38;5;28;01mreturn\u001b[39;00m \u001b[38;5;28;43mobject\u001b[39;49m\u001b[38;5;241;43m.\u001b[39;49m\u001b[38;5;21;43m__setattr__\u001b[39;49m\u001b[43m(\u001b[49m\u001b[38;5;28;43mself\u001b[39;49m\u001b[43m,\u001b[49m\u001b[43m \u001b[49m\u001b[43mname\u001b[49m\u001b[43m,\u001b[49m\u001b[43m \u001b[49m\u001b[43mvalue\u001b[49m\u001b[43m)\u001b[49m\n\u001b[1;32m   6219\u001b[0m \u001b[38;5;28;01mexcept\u001b[39;00m \u001b[38;5;167;01mAttributeError\u001b[39;00m:\n\u001b[1;32m   6220\u001b[0m     \u001b[38;5;28;01mpass\u001b[39;00m\n",
      "File \u001b[0;32mproperties.pyx:69\u001b[0m, in \u001b[0;36mpandas._libs.properties.AxisProperty.__set__\u001b[0;34m()\u001b[0m\n",
      "File \u001b[0;32m~/miniforge3/envs/phospho/lib/python3.11/site-packages/pandas/core/generic.py:767\u001b[0m, in \u001b[0;36mNDFrame._set_axis\u001b[0;34m(self, axis, labels)\u001b[0m\n\u001b[1;32m    762\u001b[0m \u001b[38;5;250m\u001b[39m\u001b[38;5;124;03m\"\"\"\u001b[39;00m\n\u001b[1;32m    763\u001b[0m \u001b[38;5;124;03mThis is called from the cython code when we set the `index` attribute\u001b[39;00m\n\u001b[1;32m    764\u001b[0m \u001b[38;5;124;03mdirectly, e.g. `series.index = [1, 2, 3]`.\u001b[39;00m\n\u001b[1;32m    765\u001b[0m \u001b[38;5;124;03m\"\"\"\u001b[39;00m\n\u001b[1;32m    766\u001b[0m labels \u001b[38;5;241m=\u001b[39m ensure_index(labels)\n\u001b[0;32m--> 767\u001b[0m \u001b[38;5;28;43mself\u001b[39;49m\u001b[38;5;241;43m.\u001b[39;49m\u001b[43m_mgr\u001b[49m\u001b[38;5;241;43m.\u001b[39;49m\u001b[43mset_axis\u001b[49m\u001b[43m(\u001b[49m\u001b[43maxis\u001b[49m\u001b[43m,\u001b[49m\u001b[43m \u001b[49m\u001b[43mlabels\u001b[49m\u001b[43m)\u001b[49m\n\u001b[1;32m    768\u001b[0m \u001b[38;5;28mself\u001b[39m\u001b[38;5;241m.\u001b[39m_clear_item_cache()\n",
      "File \u001b[0;32m~/miniforge3/envs/phospho/lib/python3.11/site-packages/pandas/core/internals/managers.py:227\u001b[0m, in \u001b[0;36mBaseBlockManager.set_axis\u001b[0;34m(self, axis, new_labels)\u001b[0m\n\u001b[1;32m    225\u001b[0m \u001b[38;5;28;01mdef\u001b[39;00m \u001b[38;5;21mset_axis\u001b[39m(\u001b[38;5;28mself\u001b[39m, axis: AxisInt, new_labels: Index) \u001b[38;5;241m-\u001b[39m\u001b[38;5;241m>\u001b[39m \u001b[38;5;28;01mNone\u001b[39;00m:\n\u001b[1;32m    226\u001b[0m     \u001b[38;5;66;03m# Caller is responsible for ensuring we have an Index object.\u001b[39;00m\n\u001b[0;32m--> 227\u001b[0m     \u001b[38;5;28;43mself\u001b[39;49m\u001b[38;5;241;43m.\u001b[39;49m\u001b[43m_validate_set_axis\u001b[49m\u001b[43m(\u001b[49m\u001b[43maxis\u001b[49m\u001b[43m,\u001b[49m\u001b[43m \u001b[49m\u001b[43mnew_labels\u001b[49m\u001b[43m)\u001b[49m\n\u001b[1;32m    228\u001b[0m     \u001b[38;5;28mself\u001b[39m\u001b[38;5;241m.\u001b[39maxes[axis] \u001b[38;5;241m=\u001b[39m new_labels\n",
      "File \u001b[0;32m~/miniforge3/envs/phospho/lib/python3.11/site-packages/pandas/core/internals/base.py:85\u001b[0m, in \u001b[0;36mDataManager._validate_set_axis\u001b[0;34m(self, axis, new_labels)\u001b[0m\n\u001b[1;32m     82\u001b[0m     \u001b[38;5;28;01mpass\u001b[39;00m\n\u001b[1;32m     84\u001b[0m \u001b[38;5;28;01melif\u001b[39;00m new_len \u001b[38;5;241m!=\u001b[39m old_len:\n\u001b[0;32m---> 85\u001b[0m     \u001b[38;5;28;01mraise\u001b[39;00m \u001b[38;5;167;01mValueError\u001b[39;00m(\n\u001b[1;32m     86\u001b[0m         \u001b[38;5;124mf\u001b[39m\u001b[38;5;124m\"\u001b[39m\u001b[38;5;124mLength mismatch: Expected axis has \u001b[39m\u001b[38;5;132;01m{\u001b[39;00mold_len\u001b[38;5;132;01m}\u001b[39;00m\u001b[38;5;124m elements, new \u001b[39m\u001b[38;5;124m\"\u001b[39m\n\u001b[1;32m     87\u001b[0m         \u001b[38;5;124mf\u001b[39m\u001b[38;5;124m\"\u001b[39m\u001b[38;5;124mvalues have \u001b[39m\u001b[38;5;132;01m{\u001b[39;00mnew_len\u001b[38;5;132;01m}\u001b[39;00m\u001b[38;5;124m elements\u001b[39m\u001b[38;5;124m\"\u001b[39m\n\u001b[1;32m     88\u001b[0m     )\n",
      "\u001b[0;31mValueError\u001b[0m: Length mismatch: Expected axis has 4 elements, new values have 3 elements"
     ]
    }
   ],
   "source": [
    "# process sites: split into protein, aa and position\n",
    "sites_df = sites['ID'].str.split('|', expand=True)\n",
    "sites_df.columns = ['full', 'symbol', 'aaposition']\n",
    "sites_df['aa'] = sites_df['aaposition'].str.extract('([A-Z])')\n",
    "sites_df['position'] = sites_df['aaposition'].str.extract('(\\d+)')"
   ]
  },
  {
   "cell_type": "code",
   "execution_count": null,
   "id": "1266f7e9-cc74-4d68-ad01-2599a7d4b89f",
   "metadata": {},
   "outputs": [],
   "source": [
    "# Prepare proteome dictionary\n",
    "proteome_dict = {}\n",
    "\n",
    "for record in proteome:\n",
    "    input_string = record.description\n",
    "    match = re.search(r'GN=([\\w]+)', input_string)    \n",
    "    if match:\n",
    "        symbol = match.group(1)\n",
    "        \n",
    "        # Check if the gene symbol is already in the dictionary\n",
    "        if symbol in proteome_dict:\n",
    "            # If yes, create a new key by appending isoform information\n",
    "            isoform_number = sum(f'{symbol}_' in key for key in proteome_dict) + 1\n",
    "            new_key = f'{symbol}_{isoform_number}'\n",
    "        else:\n",
    "            # If no, use the original symbol as the key\n",
    "            new_key = symbol\n",
    "\n",
    "        # Update the dictionary with the new key and the sequence\n",
    "        proteome_dict[new_key] = record.seq\n",
    "    else:\n",
    "        symbol = 'NA'"
   ]
  },
  {
   "cell_type": "code",
   "execution_count": null,
   "id": "8e3dee70-f81c-4f7c-b16e-bfb730001144",
   "metadata": {},
   "outputs": [],
   "source": [
    "n_surrounding = 7\n",
    "\n",
    "seq_list = []\n",
    "aa = []\n",
    "prot = []\n",
    "pos = []\n",
    "for i, int_row in sites_df.iterrows():\n",
    "    symb = int_row['symbol']\n",
    "    filtered_dict = {key: value for key, value in proteome_dict.items() if key == symb or key.startswith(f'{symb}_')}\n",
    "    for key_i in filtered_dict:\n",
    "        try:\n",
    "            seq = filtered_dict[key_i]\n",
    "            aa_pos = int(int_row['position']) - 1\n",
    "            assert seq[aa_pos] == int_row['aa']\n",
    "            if aa_pos >= n_surrounding+1:\n",
    "                site_seq = seq[aa_pos - n_surrounding:aa_pos] + seq[aa_pos] + '(ph)' + seq[aa_pos + 1:aa_pos + n_surrounding + 1]\n",
    "            else:\n",
    "                site_seq = seq[0:aa_pos] + seq[aa_pos] + '(ph)' + seq[aa_pos + 1:aa_pos + n_surrounding + 1]    \n",
    "            seq_list.append(str(site_seq))\n",
    "            aa.append(str(int_row['aa']))\n",
    "            prot.append(str(key_i))\n",
    "            pos.append(str(aa_pos + 1))\n",
    "        except: \n",
    "            seq_list.append(np.nan)\n",
    "            prot.append(str(key_i))\n",
    "            pos.append(str(aa_pos + 1))\n",
    "            aa.append(str(int_row['aa']))\n",
    "\n",
    "df = pd.DataFrame({\n",
    "    'Protein': prot,\n",
    "    'Position': pos,\n",
    "    'Aminoacid': aa,\n",
    "    'Sequence': seq_list\n",
    "})"
   ]
  },
  {
   "cell_type": "code",
   "execution_count": null,
   "id": "ee2cf2ea-5092-4cf5-bad6-720209ea0f89",
   "metadata": {},
   "outputs": [],
   "source": [
    "filtered_df = (df\n",
    "               .loc[lambda x: x['Sequence'].notna()]\n",
    "               .reset_index(drop=True))\n",
    "filtered_df['Protein'] = filtered_df['Protein'].apply(lambda x: x.split('_')[0])\n",
    "distinct_df = filtered_df.drop_duplicates(keep='first')"
   ]
  },
  {
   "cell_type": "code",
   "execution_count": null,
   "id": "171eba82-9264-49cf-a9c6-723d0137b08a",
   "metadata": {},
   "outputs": [],
   "source": [
    "distinct_df.to_csv('../../../../results/hijazi/01_processed_data/fifteenmer.csv', index=False)"
   ]
  }
 ],
 "metadata": {
  "kernelspec": {
   "display_name": "phospho",
   "language": "python",
   "name": "phospho"
  },
  "language_info": {
   "codemirror_mode": {
    "name": "ipython",
    "version": 3
   },
   "file_extension": ".py",
   "mimetype": "text/x-python",
   "name": "python",
   "nbconvert_exporter": "python",
   "pygments_lexer": "ipython3",
   "version": "3.11.5"
  }
 },
 "nbformat": 4,
 "nbformat_minor": 5
}
