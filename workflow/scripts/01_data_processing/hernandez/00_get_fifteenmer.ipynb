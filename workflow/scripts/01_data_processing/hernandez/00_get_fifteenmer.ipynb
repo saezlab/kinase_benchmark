{
 "cells": [
  {
   "cell_type": "code",
   "execution_count": 1,
   "id": "c770a102-b28e-42ca-823e-27bc0a4ef0c3",
   "metadata": {},
   "outputs": [],
   "source": [
    "import pandas as pd\n",
    "import numpy as np\n",
    "from Bio import SeqIO\n",
    "import os\n",
    "import re"
   ]
  },
  {
   "cell_type": "code",
   "execution_count": 2,
   "id": "961069a8-13f4-40b4-a384-18ba9f7612cd",
   "metadata": {},
   "outputs": [],
   "source": [
    "sites = pd.read_csv(\"../../../../results/hernandez/processed_data/benchmark_data.csv\")\n",
    "proteome = SeqIO.parse('../../../../data/decryptm/uniprot_proteome_up000005640_03112020.fasta', 'fasta')"
   ]
  },
  {
   "cell_type": "code",
   "execution_count": 3,
   "id": "96f49749-0a82-4257-8860-38ce0d84399b",
   "metadata": {},
   "outputs": [],
   "source": [
    "# process sites: split into protein, aa and position\n",
    "sites_df = sites['ID'].str.split('|', expand=True)\n",
    "sites_df.columns = ['symbol', 'aaposition', 'ENSG', 'ENSP']\n",
    "sites_df['aa'] = sites_df['aaposition'].str.extract('([A-Z])')\n",
    "sites_df['position'] = sites_df['aaposition'].str.extract('(\\d+)')"
   ]
  },
  {
   "cell_type": "code",
   "execution_count": 4,
   "id": "1266f7e9-cc74-4d68-ad01-2599a7d4b89f",
   "metadata": {},
   "outputs": [],
   "source": [
    "# Prepare proteome dictionary\n",
    "proteome_dict = {}\n",
    "\n",
    "for record in proteome:\n",
    "    input_string = record.description\n",
    "    match = re.search(r'GN=([\\w]+)', input_string)    \n",
    "    if match:\n",
    "        symbol = match.group(1)\n",
    "        \n",
    "        # Check if the gene symbol is already in the dictionary\n",
    "        if symbol in proteome_dict:\n",
    "            # If yes, create a new key by appending isoform information\n",
    "            isoform_number = sum(f'{symbol}_' in key for key in proteome_dict) + 1\n",
    "            new_key = f'{symbol}_{isoform_number}'\n",
    "        else:\n",
    "            # If no, use the original symbol as the key\n",
    "            new_key = symbol\n",
    "\n",
    "        # Update the dictionary with the new key and the sequence\n",
    "        proteome_dict[new_key] = record.seq\n",
    "    else:\n",
    "        symbol = 'NA'"
   ]
  },
  {
   "cell_type": "code",
   "execution_count": 5,
   "id": "8e3dee70-f81c-4f7c-b16e-bfb730001144",
   "metadata": {},
   "outputs": [],
   "source": [
    "n_surrounding = 7\n",
    "\n",
    "seq_list = []\n",
    "aa = []\n",
    "prot = []\n",
    "pos = []\n",
    "for i, int_row in sites_df.iterrows():\n",
    "    symb = int_row['symbol']\n",
    "    filtered_dict = {key: value for key, value in proteome_dict.items() if key == symb or key.startswith(f'{symb}_')}\n",
    "    for key_i in filtered_dict:\n",
    "        try:\n",
    "            seq = filtered_dict[key_i]\n",
    "            aa_pos = int(int_row['position']) - 1\n",
    "            assert seq[aa_pos] == int_row['aa']\n",
    "            if aa_pos >= n_surrounding+1:\n",
    "                site_seq = seq[aa_pos - n_surrounding:aa_pos] + seq[aa_pos] + '(ph)' + seq[aa_pos + 1:aa_pos + n_surrounding + 1]\n",
    "            else:\n",
    "                site_seq = seq[0:aa_pos] + seq[aa_pos] + '(ph)' + seq[aa_pos + 1:aa_pos + n_surrounding + 1]    \n",
    "            seq_list.append(str(site_seq))\n",
    "            aa.append(str(int_row['aa']))\n",
    "            prot.append(str(key_i))\n",
    "            pos.append(str(aa_pos + 1))\n",
    "        except: \n",
    "            seq_list.append(np.nan)\n",
    "            prot.append(str(key_i))\n",
    "            pos.append(str(aa_pos + 1))\n",
    "            aa.append(str(int_row['aa']))\n",
    "\n",
    "df = pd.DataFrame({\n",
    "    'Protein': prot,\n",
    "    'Position': pos,\n",
    "    'Aminoacid': aa,\n",
    "    'Sequence': seq_list\n",
    "})"
   ]
  },
  {
   "cell_type": "code",
   "execution_count": 6,
   "id": "ee2cf2ea-5092-4cf5-bad6-720209ea0f89",
   "metadata": {},
   "outputs": [],
   "source": [
    "filtered_df = (df\n",
    "               .loc[lambda x: x['Sequence'].notna()]\n",
    "               .reset_index(drop=True))\n",
    "filtered_df['Protein'] = filtered_df['Protein'].apply(lambda x: x.split('_')[0])\n",
    "distinct_df = filtered_df.drop_duplicates(keep='first')"
   ]
  },
  {
   "cell_type": "code",
   "execution_count": 7,
   "id": "171eba82-9264-49cf-a9c6-723d0137b08a",
   "metadata": {},
   "outputs": [],
   "source": [
    "distinct_df.to_csv('../../../../results/hernandez/processed_data/fifteenmer.csv', index=False)"
   ]
  }
 ],
 "metadata": {
  "kernelspec": {
   "display_name": "phospho",
   "language": "python",
   "name": "phospho"
  },
  "language_info": {
   "codemirror_mode": {
    "name": "ipython",
    "version": 3
   },
   "file_extension": ".py",
   "mimetype": "text/x-python",
   "name": "python",
   "nbconvert_exporter": "python",
   "pygments_lexer": "ipython3",
   "version": "3.11.5"
  }
 },
 "nbformat": 4,
 "nbformat_minor": 5
}
